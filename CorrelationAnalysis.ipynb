from pyspark.sql import SparkSession
from pyspark.ml.clustering import KMeans
from pyspark.ml.feature import VectorAssembler
from pyspark.ml.evaluation import ClusteringEvaluator

import matplotlib.pyplot as plt
import pandas as pd

spark = SparkSession\
    .builder\
    .appName("Test App")\
    .getOrCreate()

# Get users database from SQL server
usersDF = spark.read.format("jdbc") \
    .option("url", "jdbc:mysql://host.docker.internal:3306/steam_database") \
    .option("driver", "com.mysql.cj.jdbc.Driver") \
    .option("dbtable", "users") \
    .option("user", "root") \
    .option("password", "") \
    .load()

# Get ratings database from SQL server
ratingsDF = spark.read.format("jdbc") \
    .option("url", "jdbc:mysql://host.docker.internal:3306/steam_database") \
    .option("driver", "com.mysql.cj.jdbc.Driver") \
    .option("dbtable", "ratings") \
    .option("user", "root") \
    .option("password", "") \
    .load()

# Get games database from SQL server
gamesDF = spark.read.format("jdbc") \
    .option("url", "jdbc:mysql://host.docker.internal:3306/steam_database") \
    .option("driver", "com.mysql.cj.jdbc.Driver") \
    .option("dbtable", "games") \
    .option("user", "root") \
    .option("password", "") \
    .load()

# 4 Complex Queries w/ Edited Results for Correlation Analysis
CQ1 = ratingsDF.select('user_id', 'score').filter(ratingsDF['score'] == 60).filter(ratingsDF['game_id'] == 21).show()
CQ2 = usersDF.join(ratingsDF.join(gamesDF, ratingsDF['game_id'] == gamesDF['id']), usersDF['id'] == ratingsDF['user_id']).select('first_name', 'last_name', 'name', 'score', 'price', 'storage_size').filter(ratingsDF['score'] > 60).show()
CQ3 = gamesDF.select(gamesDF['developer_id'], gamesDF['popularity']).filter(gamesDF['popularity'] > 10).show()
CQ4 = usersDF.join(gamesDF.join(ratingsDF, gamesDF['id'] == ratingsDF['game_id']), usersDF['developer_id'] == gamesDF['developer_id']).select(gamesDF['popularity'], ratingsDF['score']).filter(gamesDF['popularity'] > 10).show()

# Correlation Between Two Datasets for each Query
corr1 = CQ1.stat.corr('user_id', 'score')
corr2 = CQ2.stat.corr('score', 'storage_size')
corr3 = CQ3.stat.corr('developer_id', 'popularity')
corr4 = CQ4.stat.corr('popularity', 'score')

# Print Correlation Results
print("Query #1 correlation between user_id and score:", corr1)
print("Query #2 correlation between score and storage_size:", corr2)
print("Query #3 correlation between developer_id and popularity:", corr3)
print("Query #4 correlation between popularity and score:", corr4, "\n")


# KMeans Data Analysis
FEATURES_COL = ['storage_size', 'popularity']
df = gamesDF.select(gamesDF['id'], gamesDF['storage_size'], gamesDF['popularity'])
vecAssembler = VectorAssembler(inputCols = FEATURES_COL, outputCol = 'features')
kData = vecAssembler.transform(df).select('id', 'features')

kmeans = KMeans().setK(3).setSeed(1)
model = kmeans.fit(kData)

predictions = model.transform(kData)
evaluator = ClusteringEvaluator()

silhouette = evaluator.evaluate(predictions)
print("Silhouette with squared euclidean distance = " + str(silhouette))

centers = model.clusterCenters()
print("Cluster Centers: ")
for center in centers:
    print(center)

pdf = gamesDF.select(gamesDF['storage_size'], gamesDF['popularity']).toPandas()
pdf.plot.scatter(x = 'storage_size',
                 y = 'popularity')
